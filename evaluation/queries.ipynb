{
 "cells": [
  {
   "cell_type": "code",
   "execution_count": 2,
   "metadata": {},
   "outputs": [],
   "source": [
    "import pandas as pd"
   ]
  },
  {
   "cell_type": "code",
   "execution_count": 6,
   "metadata": {},
   "outputs": [],
   "source": [
    "gd_parent_folder = \"datasets/ground_truth\"\n",
    "menu_gd = f\"{gd_parent_folder}/menu_all.csv\"\n",
    "chi_gd = f\"{gd_parent_folder}/chi_all.csv\"\n",
    "ppp_gd = f\"{gd_parent_folder}/ppp_all.csv\"\n",
    "dish_gd = f\"{gd_parent_folder}/dish_all.csv\""
   ]
  },
  {
   "cell_type": "code",
   "execution_count": null,
   "metadata": {},
   "outputs": [],
   "source": [
    "# purpose I: Find the longest menu served (by page count).\n",
    "# dataset: menu.csv\n",
    "# target column: page count\n",
    "page_count = menu_gd['page_count']\n"
   ]
  }
 ],
 "metadata": {
  "kernelspec": {
   "display_name": "autodc",
   "language": "python",
   "name": "python3"
  },
  "language_info": {
   "codemirror_mode": {
    "name": "ipython",
    "version": 3
   },
   "file_extension": ".py",
   "mimetype": "text/x-python",
   "name": "python",
   "nbconvert_exporter": "python",
   "pygments_lexer": "ipython3",
   "version": "3.11.5"
  }
 },
 "nbformat": 4,
 "nbformat_minor": 2
}
